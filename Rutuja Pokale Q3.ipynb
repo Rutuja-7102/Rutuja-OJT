{
 "cells": [
  {
   "cell_type": "code",
   "execution_count": 1,
   "id": "d5f3cb9c-b31e-460b-b675-1de60536f38e",
   "metadata": {},
   "outputs": [],
   "source": [
    "#Q3\n",
    "import numpy as np\n",
    "import sympy as sp"
   ]
  },
  {
   "cell_type": "code",
   "execution_count": 2,
   "id": "658dbf49-cbc8-4bb4-b771-81253b5fbc08",
   "metadata": {},
   "outputs": [
    {
     "data": {
      "text/latex": [
       "$\\displaystyle \\left[\\begin{matrix}9 & 9 & 9 & 0 & 4\\\\6 & 3 & 0 & 4 & 8\\\\1 & 4 & 9 & 0 & 4\\\\4 & 4 & 9 & 6 & 5\\\\7 & 8 & 8 & 8 & 7\\end{matrix}\\right]$"
      ],
      "text/plain": [
       "Matrix([\n",
       "[9, 9, 9, 0, 4],\n",
       "[6, 3, 0, 4, 8],\n",
       "[1, 4, 9, 0, 4],\n",
       "[4, 4, 9, 6, 5],\n",
       "[7, 8, 8, 8, 7]])"
      ]
     },
     "execution_count": 2,
     "metadata": {},
     "output_type": "execute_result"
    }
   ],
   "source": [
    "A=np.array([[9, 9, 9, 0, 4],[6, 3, 0, 4, 8],[1, 4, 9, 0, 4],[4, 4, 9, 6, 5],[7, 8, 8, 8, 7]])\n",
    "sp.Matrix(A)"
   ]
  },
  {
   "cell_type": "code",
   "execution_count": 4,
   "id": "457443dc-eb0e-4a00-b7c6-c131ece5c192",
   "metadata": {},
   "outputs": [
    {
     "data": {
      "text/latex": [
       "$\\displaystyle \\left[\\begin{matrix}-1.0 & 0 & 1.0 & 0 & 0\\\\0 & -1.0 & 0 & 1.0 & 0\\\\0 & 1.0 & 0 & 1.0 & 0\\\\0 & 0 & -1.0 & 0 & -1.0\\\\-1.0 & 0 & 0 & 0 & 1.0\\end{matrix}\\right]$"
      ],
      "text/plain": [
       "Matrix([\n",
       "[-1.0,    0,  1.0,   0,    0],\n",
       "[   0, -1.0,    0, 1.0,    0],\n",
       "[   0,  1.0,    0, 1.0,    0],\n",
       "[   0,    0, -1.0,   0, -1.0],\n",
       "[-1.0,    0,    0,   0,  1.0]])"
      ]
     },
     "execution_count": 4,
     "metadata": {},
     "output_type": "execute_result"
    }
   ],
   "source": [
    "U,s,Vt=np.linalg.svd(A)\n",
    "sp.Matrix(np.round(U))"
   ]
  },
  {
   "cell_type": "code",
   "execution_count": 5,
   "id": "22752e73-c644-4447-90b4-b62a6bf87c69",
   "metadata": {},
   "outputs": [
    {
     "data": {
      "text/plain": [
       "array([28.61002395,  9.11748843,  6.64283736,  3.75561734,  1.45120104])"
      ]
     },
     "execution_count": 5,
     "metadata": {},
     "output_type": "execute_result"
    }
   ],
   "source": [
    "s"
   ]
  },
  {
   "cell_type": "code",
   "execution_count": 7,
   "id": "6131124b-fe0c-42d4-a81e-9829bb57319a",
   "metadata": {},
   "outputs": [
    {
     "data": {
      "text/latex": [
       "$\\displaystyle \\left[\\begin{matrix}0 & 0 & -1.0 & 0 & 0\\\\0 & 0 & 1.0 & -1.0 & 0\\\\1.0 & 0 & 0 & -1.0 & 0\\\\0 & 0 & 0 & -1.0 & 1.0\\\\-1.0 & 1.0 & 0 & 0 & 0\\end{matrix}\\right]$"
      ],
      "text/plain": [
       "Matrix([\n",
       "[   0,   0, -1.0,    0,   0],\n",
       "[   0,   0,  1.0, -1.0,   0],\n",
       "[ 1.0,   0,    0, -1.0,   0],\n",
       "[   0,   0,    0, -1.0, 1.0],\n",
       "[-1.0, 1.0,    0,    0,   0]])"
      ]
     },
     "execution_count": 7,
     "metadata": {},
     "output_type": "execute_result"
    }
   ],
   "source": [
    "sp.Matrix(np.round(Vt))"
   ]
  },
  {
   "cell_type": "code",
   "execution_count": 8,
   "id": "3d6565e0-20bf-44d0-ab08-5e400996e602",
   "metadata": {},
   "outputs": [
    {
     "data": {
      "text/latex": [
       "$\\displaystyle \\left[\\begin{matrix}0 & 0 & 0 & 0 & 0\\\\0 & 0 & 0 & 0 & 0\\\\0 & 0 & 0 & 0 & 0\\\\0 & 0 & 0 & 0 & 0\\\\0 & 0 & 0 & 0 & 0\\end{matrix}\\right]$"
      ],
      "text/plain": [
       "Matrix([\n",
       "[0, 0, 0, 0, 0],\n",
       "[0, 0, 0, 0, 0],\n",
       "[0, 0, 0, 0, 0],\n",
       "[0, 0, 0, 0, 0],\n",
       "[0, 0, 0, 0, 0]])"
      ]
     },
     "execution_count": 8,
     "metadata": {},
     "output_type": "execute_result"
    }
   ],
   "source": [
    "Sigma=np.zeros((A.shape[0],A.shape[1]))\n",
    "sp.Matrix(Sigma)"
   ]
  },
  {
   "cell_type": "code",
   "execution_count": 11,
   "id": "f4177b7e-9eba-48bb-99ea-658c6d1906a2",
   "metadata": {},
   "outputs": [
    {
     "data": {
      "text/latex": [
       "$\\displaystyle \\left[\\begin{matrix}28.610023952693 & 0 & 0 & 0 & 0\\\\0 & 9.11748842568387 & 0 & 0 & 0\\\\0 & 0 & 6.64283736007493 & 0 & 0\\\\0 & 0 & 0 & 3.75561733617264 & 0\\\\0 & 0 & 0 & 0 & 1.45120104247678\\end{matrix}\\right]$"
      ],
      "text/plain": [
       "Matrix([\n",
       "[28.610023952693,                0,                0,                0,                0],\n",
       "[              0, 9.11748842568387,                0,                0,                0],\n",
       "[              0,                0, 6.64283736007493,                0,                0],\n",
       "[              0,                0,                0, 3.75561733617264,                0],\n",
       "[              0,                0,                0,                0, 1.45120104247678]])"
      ]
     },
     "execution_count": 11,
     "metadata": {},
     "output_type": "execute_result"
    }
   ],
   "source": [
    "Sigma[:A.shape[1],:A.shape[0]]=np.diag(s)\n",
    "sp.Matrix(Sigma)"
   ]
  },
  {
   "cell_type": "code",
   "execution_count": 12,
   "id": "240d2392-abf6-44eb-9efd-6c7ec11fe78e",
   "metadata": {},
   "outputs": [
    {
     "data": {
      "text/latex": [
       "$\\displaystyle \\left[\\begin{matrix}-0.443171207581492 & -0.465277780843269 & -0.566321609964322 & -0.297765478529507 & -0.421582045760773\\\\-0.240032145490739 & 0.137129454432417 & 0.675541150067961 & -0.529045819906601 & -0.432821853494472\\\\0.601363775120313 & 0.340410038430681 & -0.378144283591048 & -0.612330092696621 & -0.067389717867255\\\\-0.238480615424794 & -0.251348877936864 & 0.073804623663013 & -0.506064291859386 & 0.786385749907328\\\\-0.57225209125134 & 0.765282200679026 & -0.272917143040978 & 0.0199256196503965 & 0.109498402263382\\end{matrix}\\right]$"
      ],
      "text/plain": [
       "Matrix([\n",
       "[-0.443171207581492, -0.465277780843269, -0.566321609964322, -0.297765478529507, -0.421582045760773],\n",
       "[-0.240032145490739,  0.137129454432417,  0.675541150067961, -0.529045819906601, -0.432821853494472],\n",
       "[ 0.601363775120313,  0.340410038430681, -0.378144283591048, -0.612330092696621, -0.067389717867255],\n",
       "[-0.238480615424794, -0.251348877936864,  0.073804623663013, -0.506064291859386,  0.786385749907328],\n",
       "[ -0.57225209125134,  0.765282200679026, -0.272917143040978, 0.0199256196503965,  0.109498402263382]])"
      ]
     },
     "execution_count": 12,
     "metadata": {},
     "output_type": "execute_result"
    }
   ],
   "source": [
    "sp.Matrix(Vt)"
   ]
  },
  {
   "cell_type": "code",
   "execution_count": 14,
   "id": "171eca94-3695-4cea-a7b3-017fb0925d31",
   "metadata": {},
   "outputs": [
    {
     "data": {
      "text/latex": [
       "$\\displaystyle \\left[\\begin{matrix}9.0 & 9.0 & 9.0 & 0 & 4.0\\\\6.0 & 3.0 & 0 & 4.0 & 8.0\\\\1.0 & 4.0 & 9.0 & 0 & 4.0\\\\4.0 & 4.0 & 9.0 & 6.0 & 5.0\\\\7.0 & 8.0 & 8.0 & 8.0 & 7.0\\end{matrix}\\right]$"
      ],
      "text/plain": [
       "Matrix([\n",
       "[9.0, 9.0, 9.0,   0, 4.0],\n",
       "[6.0, 3.0,   0, 4.0, 8.0],\n",
       "[1.0, 4.0, 9.0,   0, 4.0],\n",
       "[4.0, 4.0, 9.0, 6.0, 5.0],\n",
       "[7.0, 8.0, 8.0, 8.0, 7.0]])"
      ]
     },
     "execution_count": 14,
     "metadata": {},
     "output_type": "execute_result"
    }
   ],
   "source": [
    "K=U@Sigma@Vt\n",
    "sp.Matrix(np.round(K))"
   ]
  },
  {
   "cell_type": "code",
   "execution_count": null,
   "id": "09756170-2dc3-47b4-ab32-0cab78755a3f",
   "metadata": {},
   "outputs": [],
   "source": []
  },
  {
   "cell_type": "code",
   "execution_count": null,
   "id": "57122405-df2c-45bb-843e-dd903f1d3206",
   "metadata": {},
   "outputs": [],
   "source": []
  }
 ],
 "metadata": {
  "kernelspec": {
   "display_name": "Python 3 (ipykernel)",
   "language": "python",
   "name": "python3"
  },
  "language_info": {
   "codemirror_mode": {
    "name": "ipython",
    "version": 3
   },
   "file_extension": ".py",
   "mimetype": "text/x-python",
   "name": "python",
   "nbconvert_exporter": "python",
   "pygments_lexer": "ipython3",
   "version": "3.11.7"
  }
 },
 "nbformat": 4,
 "nbformat_minor": 5
}
